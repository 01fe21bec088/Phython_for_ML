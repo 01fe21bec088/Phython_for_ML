{
  "nbformat": 4,
  "nbformat_minor": 0,
  "metadata": {
    "colab": {
      "provenance": [],
      "authorship_tag": "ABX9TyOfIIl1iZ73n/DIb9RfqxeY",
      "include_colab_link": true
    },
    "kernelspec": {
      "name": "python3",
      "display_name": "Python 3"
    },
    "language_info": {
      "name": "python"
    }
  },
  "cells": [
    {
      "cell_type": "markdown",
      "metadata": {
        "id": "view-in-github",
        "colab_type": "text"
      },
      "source": [
        "<a href=\"https://colab.research.google.com/github/01fe21bec088/Python_for_ML/blob/main/if_else.ipynb\" target=\"_parent\"><img src=\"https://colab.research.google.com/assets/colab-badge.svg\" alt=\"Open In Colab\"/></a>"
      ]
    },
    {
      "cell_type": "code",
      "execution_count": null,
      "metadata": {
        "colab": {
          "base_uri": "https://localhost:8080/"
        },
        "id": "CI4hGGBi25N1",
        "outputId": "8a2716c4-e7c6-4344-bd88-7fe21744f9f6"
      },
      "outputs": [
        {
          "output_type": "stream",
          "name": "stdout",
          "text": [
            "enter a: 5\n",
            "enter b: 9\n",
            "5 9\n"
          ]
        }
      ],
      "source": [
        "a=input(\"enter a: \")\n",
        "b=input(\"enter b: \")\n",
        "print(a,b)"
      ]
    },
    {
      "cell_type": "code",
      "source": [
        "x=int(input(\"enter x: \"))\n",
        "y=int(input(\"enter y: \"))\n",
        "if x>y: print(x,\">\", y)\n",
        "elif x<y: print(x,\"<\", y)\n",
        "elif x==y: print(x,\"=\", y)"
      ],
      "metadata": {
        "colab": {
          "base_uri": "https://localhost:8080/"
        },
        "id": "2-e8PuU83YG9",
        "outputId": "9270f3c9-0271-4029-9019-1f069de7d847"
      },
      "execution_count": null,
      "outputs": [
        {
          "output_type": "stream",
          "name": "stdout",
          "text": [
            "enter x: -56\n",
            "enter y: -0\n",
            "-56 < 0\n"
          ]
        }
      ]
    },
    {
      "cell_type": "code",
      "source": [
        "name1=input('enter name1: ')\n",
        "name3=input('enter name2: ')\n",
        "name2=input('enter name3: ')\n",
        "if name1==\"ram\":  print('name1 is',name1)\n",
        "elif name2==\"sam\":  print('name2 is',name2)\n",
        "elif name3==\"dam\":  print('name3 is',name3)\n",
        "else  : print('invalid')"
      ],
      "metadata": {
        "colab": {
          "base_uri": "https://localhost:8080/"
        },
        "id": "s1PjLPsy48vJ",
        "outputId": "6abd328f-a77a-487c-9076-1b460277a45a"
      },
      "execution_count": null,
      "outputs": [
        {
          "output_type": "stream",
          "name": "stdout",
          "text": [
            "enter name1: siu\n",
            "enter name2: kijm\n",
            "enter name3: wom\n",
            "invalid\n"
          ]
        }
      ]
    },
    {
      "cell_type": "code",
      "source": [],
      "metadata": {
        "id": "THvD4ybk6EsP"
      },
      "execution_count": null,
      "outputs": []
    }
  ]
}