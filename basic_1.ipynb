{
  "nbformat": 4,
  "nbformat_minor": 0,
  "metadata": {
    "colab": {
      "provenance": [],
      "authorship_tag": "ABX9TyODJs4NWwwzo3jt4uYRKthS",
      "include_colab_link": true
    },
    "kernelspec": {
      "name": "python3",
      "display_name": "Python 3"
    },
    "language_info": {
      "name": "python"
    }
  },
  "cells": [
    {
      "cell_type": "markdown",
      "metadata": {
        "id": "view-in-github",
        "colab_type": "text"
      },
      "source": [
        "<a href=\"https://colab.research.google.com/github/01fe21bec088/Python_for_ML/blob/main/basic_1.ipynb\" target=\"_parent\"><img src=\"https://colab.research.google.com/assets/colab-badge.svg\" alt=\"Open In Colab\"/></a>"
      ]
    },
    {
      "cell_type": "code",
      "execution_count": null,
      "metadata": {
        "colab": {
          "base_uri": "https://localhost:8080/"
        },
        "id": "mk6Ps8ToAg3z",
        "outputId": "64a453a1-33e0-45fa-b9fa-e7b0d5eaccf8"
      },
      "outputs": [
        {
          "output_type": "stream",
          "name": "stdout",
          "text": [
            "1\n"
          ]
        }
      ],
      "source": [
        "a=5\n",
        "b=2\n",
        "remainder=a%b\n",
        "print(remainder)"
      ]
    },
    {
      "cell_type": "code",
      "source": [
        "quo=a/b\n",
        "print(quo)"
      ],
      "metadata": {
        "colab": {
          "base_uri": "https://localhost:8080/"
        },
        "id": "1D2bwpn4BPTn",
        "outputId": "4c2c97d4-2b56-49a8-f78f-077acf8cad4c"
      },
      "execution_count": null,
      "outputs": [
        {
          "output_type": "stream",
          "name": "stdout",
          "text": [
            "2.5\n"
          ]
        }
      ]
    },
    {
      "cell_type": "code",
      "source": [
        "and_logic=a&b\n",
        "print(and_logic)"
      ],
      "metadata": {
        "colab": {
          "base_uri": "https://localhost:8080/"
        },
        "id": "S_XLrZNYBdpv",
        "outputId": "9a8a1619-531f-48fa-be59-fe37a6707f69"
      },
      "execution_count": null,
      "outputs": [
        {
          "output_type": "stream",
          "name": "stdout",
          "text": [
            "0\n"
          ]
        }
      ]
    },
    {
      "cell_type": "code",
      "source": [
        "import math\n",
        "d=math.sqrt(22/7)\n",
        "print(d)"
      ],
      "metadata": {
        "colab": {
          "base_uri": "https://localhost:8080/"
        },
        "id": "JM1nKSDQCACN",
        "outputId": "e4fe59da-ab49-4e72-f05a-eed299d1e95e"
      },
      "execution_count": null,
      "outputs": [
        {
          "output_type": "stream",
          "name": "stdout",
          "text": [
            "1.7728105208558367\n"
          ]
        }
      ]
    },
    {
      "cell_type": "code",
      "source": [
        "square=math.pow(3,2)\n",
        "print(square)"
      ],
      "metadata": {
        "colab": {
          "base_uri": "https://localhost:8080/"
        },
        "id": "okPHrq7bC24t",
        "outputId": "53d8ffcf-e171-4ad6-f560-d7829726f4e8"
      },
      "execution_count": null,
      "outputs": [
        {
          "output_type": "stream",
          "name": "stdout",
          "text": [
            "9.0\n"
          ]
        }
      ]
    },
    {
      "cell_type": "code",
      "source": [
        "#statistics\n",
        "import statistics\n",
        "numbers=[1,2,3,4,5,6]\n",
        "avg=sum(numbers)/len(numbers)\n",
        "print(avg)\n",
        "\n"
      ],
      "metadata": {
        "colab": {
          "base_uri": "https://localhost:8080/"
        },
        "id": "Ejni7PskDxkd",
        "outputId": "34d0e4a7-d2dd-4e8f-891c-bd23aa2ab81a"
      },
      "execution_count": null,
      "outputs": [
        {
          "output_type": "stream",
          "name": "stdout",
          "text": [
            "3.5\n"
          ]
        }
      ]
    },
    {
      "cell_type": "code",
      "source": [],
      "metadata": {
        "id": "8Jj5XrB4FyQW"
      },
      "execution_count": null,
      "outputs": []
    }
  ]
}