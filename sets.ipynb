{
  "nbformat": 4,
  "nbformat_minor": 0,
  "metadata": {
    "colab": {
      "provenance": [],
      "authorship_tag": "ABX9TyMD35na68qfnfo1ZaKt6F5h",
      "include_colab_link": true
    },
    "kernelspec": {
      "name": "python3",
      "display_name": "Python 3"
    },
    "language_info": {
      "name": "python"
    }
  },
  "cells": [
    {
      "cell_type": "markdown",
      "metadata": {
        "id": "view-in-github",
        "colab_type": "text"
      },
      "source": [
        "<a href=\"https://colab.research.google.com/github/01fe21bec088/Python_for_ML/blob/main/sets.ipynb\" target=\"_parent\"><img src=\"https://colab.research.google.com/assets/colab-badge.svg\" alt=\"Open In Colab\"/></a>"
      ]
    },
    {
      "cell_type": "code",
      "execution_count": null,
      "metadata": {
        "colab": {
          "base_uri": "https://localhost:8080/"
        },
        "id": "jmP_udeuqM64",
        "outputId": "915c3a21-c337-444e-baee-dd72b22e9777"
      },
      "outputs": [
        {
          "output_type": "stream",
          "name": "stdout",
          "text": [
            "{'aa', 'cc', 'bb'}\n"
          ]
        }
      ],
      "source": [
        "set1={\"aa\",\"bb\",\"cc\"}\n",
        "print(set1)\n"
      ]
    },
    {
      "cell_type": "code",
      "source": [
        "set1.add(\"dd\")\n",
        "print(set1)"
      ],
      "metadata": {
        "colab": {
          "base_uri": "https://localhost:8080/"
        },
        "id": "QTwZ7u2fqg1-",
        "outputId": "e5491ef6-5e11-4f9f-cb2c-6543d446ba1c"
      },
      "execution_count": null,
      "outputs": [
        {
          "output_type": "stream",
          "name": "stdout",
          "text": [
            "{'aa', 'cc', 'dd', 'bb'}\n"
          ]
        }
      ]
    },
    {
      "cell_type": "code",
      "source": [
        "set2={\"aaa\",\"bbbb\",\"ccc\"}\n",
        "print(set2)"
      ],
      "metadata": {
        "id": "1AccYFdJqoer",
        "colab": {
          "base_uri": "https://localhost:8080/"
        },
        "outputId": "933a0fc5-2a4a-4987-9866-d62adc0eff78"
      },
      "execution_count": null,
      "outputs": [
        {
          "output_type": "stream",
          "name": "stdout",
          "text": [
            "{'bbbb', 'aaa', 'ccc'}\n"
          ]
        }
      ]
    },
    {
      "cell_type": "code",
      "source": [
        "set1.update(set2)\n",
        "print(set1)\n",
        "print(set2)"
      ],
      "metadata": {
        "colab": {
          "base_uri": "https://localhost:8080/"
        },
        "id": "WzXWM7eerzwW",
        "outputId": "54efaf29-dda0-411e-c515-92ff81b88be9"
      },
      "execution_count": null,
      "outputs": [
        {
          "output_type": "stream",
          "name": "stdout",
          "text": [
            "{'aa', 'cc', 'aaa', 'ccc', 'bbbb', 'dd', 'bb'}\n",
            "{'bbbb', 'aaa', 'ccc'}\n"
          ]
        }
      ]
    }
  ]
}