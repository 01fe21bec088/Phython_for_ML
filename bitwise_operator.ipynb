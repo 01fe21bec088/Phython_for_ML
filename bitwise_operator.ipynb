{
  "nbformat": 4,
  "nbformat_minor": 0,
  "metadata": {
    "colab": {
      "provenance": [],
      "authorship_tag": "ABX9TyPniLO1zUlMw6hjo9y4gUdC",
      "include_colab_link": true
    },
    "kernelspec": {
      "name": "python3",
      "display_name": "Python 3"
    },
    "language_info": {
      "name": "python"
    }
  },
  "cells": [
    {
      "cell_type": "markdown",
      "metadata": {
        "id": "view-in-github",
        "colab_type": "text"
      },
      "source": [
        "<a href=\"https://colab.research.google.com/github/01fe21bec088/Python_for_ML/blob/main/bitwise_operator.ipynb\" target=\"_parent\"><img src=\"https://colab.research.google.com/assets/colab-badge.svg\" alt=\"Open In Colab\"/></a>"
      ]
    },
    {
      "cell_type": "markdown",
      "source": [
        "& << >> | ^ ~"
      ],
      "metadata": {
        "id": "Y15V7GEgaxOk"
      }
    },
    {
      "cell_type": "code",
      "execution_count": null,
      "metadata": {
        "colab": {
          "base_uri": "https://localhost:8080/"
        },
        "id": "VfL65qNkXY1e",
        "outputId": "986c3966-d710-473f-ff3c-1d4d45cc4023"
      },
      "outputs": [
        {
          "output_type": "stream",
          "name": "stdout",
          "text": [
            "15\n",
            "0\n",
            "0\n"
          ]
        }
      ],
      "source": [
        "#and\n",
        "a=int(input())\n",
        "b=int(input())\n",
        "print(a&b)"
      ]
    },
    {
      "cell_type": "code",
      "source": [
        "#not\n",
        "b=int(input())\n",
        "print(~b)"
      ],
      "metadata": {
        "colab": {
          "base_uri": "https://localhost:8080/"
        },
        "id": "eXv4Y859bJjb",
        "outputId": "0d33befc-aaac-408f-a6de-35ea1f59f23d"
      },
      "execution_count": null,
      "outputs": [
        {
          "output_type": "stream",
          "name": "stdout",
          "text": [
            "4\n",
            "-5\n"
          ]
        }
      ]
    },
    {
      "cell_type": "code",
      "source": [
        "#shift\n",
        "a=int(input())\n",
        "\n",
        "b=int(input())\n",
        "print(a,\"/2^\",b,\"=\",a>>b)"
      ],
      "metadata": {
        "colab": {
          "base_uri": "https://localhost:8080/"
        },
        "id": "7q4R_IrQe9gA",
        "outputId": "3f57d403-47cb-43e8-8327-195a35436d6c"
      },
      "execution_count": null,
      "outputs": [
        {
          "output_type": "stream",
          "name": "stdout",
          "text": [
            "2\n",
            "1\n",
            "2 /2^ 1 = 1\n"
          ]
        }
      ]
    },
    {
      "cell_type": "markdown",
      "source": [],
      "metadata": {
        "id": "twI_VMNzg0fU"
      }
    }
  ]
}