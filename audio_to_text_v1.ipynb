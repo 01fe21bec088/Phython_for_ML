{
  "nbformat": 4,
  "nbformat_minor": 0,
  "metadata": {
    "colab": {
      "provenance": [],
      "authorship_tag": "ABX9TyPa8XOLc3igvg4Gj59d4Liv",
      "include_colab_link": true
    },
    "kernelspec": {
      "name": "python3",
      "display_name": "Python 3"
    },
    "language_info": {
      "name": "python"
    }
  },
  "cells": [
    {
      "cell_type": "markdown",
      "metadata": {
        "id": "view-in-github",
        "colab_type": "text"
      },
      "source": [
        "<a href=\"https://colab.research.google.com/github/01fe21bec088/Python_for_ML/blob/main/audio_to_text_v1.ipynb\" target=\"_parent\"><img src=\"https://colab.research.google.com/assets/colab-badge.svg\" alt=\"Open In Colab\"/></a>"
      ]
    },
    {
      "cell_type": "code",
      "execution_count": null,
      "metadata": {
        "id": "z-n3WXHLNLmf"
      },
      "outputs": [],
      "source": []
    },
    {
      "cell_type": "code",
      "source": [
        "!pip install SpeechRecognition\n",
        "import speech_recognition as sr\n",
        "\n",
        "\n",
        "\n",
        "# Initialize the recognizer\n",
        "recognizer = sr.Recognizer()\n",
        "\n",
        "# Define the path to your uploaded audio file\n",
        "audio_path = \"/content/harvard.wav\"  # Update this with your file name\n",
        "\n",
        "# Load the audio file\n",
        "with sr.AudioFile(audio_path) as source:\n",
        "    audio_data = recognizer.record(source)  # Record the audio file\n",
        "\n",
        "try:\n",
        "    # Use Google Web Speech API to recognize the text\n",
        "    text = recognizer.recognize_google(audio_data)\n",
        "    print(\"Converted Text:\")\n",
        "    print(text)\n",
        "except sr.UnknownValueError:\n",
        "    print(\"Google Web Speech API could not understand the audio\")\n",
        "except sr.RequestError as e:\n",
        "    print(f\"Could not request results from Google Web Speech API; {e}\")\n"
      ],
      "metadata": {
        "colab": {
          "base_uri": "https://localhost:8080/"
        },
        "id": "iuu0xGH6Mr1Q",
        "outputId": "7a9665da-60bf-40dd-e2e2-325eee40069d"
      },
      "execution_count": 2,
      "outputs": [
        {
          "output_type": "stream",
          "name": "stdout",
          "text": [
            "Requirement already satisfied: SpeechRecognition in /usr/local/lib/python3.10/dist-packages (3.10.0)\n",
            "Requirement already satisfied: requests>=2.26.0 in /usr/local/lib/python3.10/dist-packages (from SpeechRecognition) (2.31.0)\n",
            "Requirement already satisfied: charset-normalizer<4,>=2 in /usr/local/lib/python3.10/dist-packages (from requests>=2.26.0->SpeechRecognition) (3.2.0)\n",
            "Requirement already satisfied: idna<4,>=2.5 in /usr/local/lib/python3.10/dist-packages (from requests>=2.26.0->SpeechRecognition) (3.4)\n",
            "Requirement already satisfied: urllib3<3,>=1.21.1 in /usr/local/lib/python3.10/dist-packages (from requests>=2.26.0->SpeechRecognition) (2.0.4)\n",
            "Requirement already satisfied: certifi>=2017.4.17 in /usr/local/lib/python3.10/dist-packages (from requests>=2.26.0->SpeechRecognition) (2023.7.22)\n",
            "Converted Text:\n",
            "the still smell of old beer lingers it takes heat to bring out the odour a cold dip restores health exist a salt pickle taste fine with him as well past or my favourite exist for food is the hot cross bun\n"
          ]
        }
      ]
    },
    {
      "cell_type": "code",
      "source": [
        "# Initialize the recognizer\n",
        "recognizer = sr.Recognizer()\n",
        "\n",
        "# Define the path to your uploaded audio file\n",
        "audio_path = \"/content/Sports.wav\"  # Update this with your file name\n",
        "\n",
        "# Load the audio file\n",
        "with sr.AudioFile(audio_path) as source:\n",
        "    audio_data = recognizer.record(source)  # Record the audio file\n",
        "\n",
        "try:\n",
        "    # Use Google Web Speech API to recognize the text\n",
        "    text = recognizer.recognize_google(audio_data)\n",
        "    print(\"Converted Text:\")\n",
        "    print(text)\n",
        "except sr.UnknownValueError:\n",
        "    print(\"Google Web Speech API could not understand the audio\")\n",
        "except sr.RequestError as e:\n",
        "    print(f\"Could not request results from Google Web Speech API; {e}\")"
      ],
      "metadata": {
        "colab": {
          "base_uri": "https://localhost:8080/"
        },
        "id": "k2MkIRjZN38I",
        "outputId": "a465dc88-0c49-42e0-a4c8-af5e64d5d7a8"
      },
      "execution_count": 3,
      "outputs": [
        {
          "output_type": "stream",
          "name": "stdout",
          "text": [
            "Converted Text:\n",
            "good evening ladies in January like to work radio broadcast\n"
          ]
        }
      ]
    }
  ]
}