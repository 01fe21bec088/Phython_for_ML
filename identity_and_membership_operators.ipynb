{
  "nbformat": 4,
  "nbformat_minor": 0,
  "metadata": {
    "colab": {
      "provenance": [],
      "authorship_tag": "ABX9TyO1FtBiwFmDKaHEGv71JwwI",
      "include_colab_link": true
    },
    "kernelspec": {
      "name": "python3",
      "display_name": "Python 3"
    },
    "language_info": {
      "name": "python"
    }
  },
  "cells": [
    {
      "cell_type": "markdown",
      "metadata": {
        "id": "view-in-github",
        "colab_type": "text"
      },
      "source": [
        "<a href=\"https://colab.research.google.com/github/01fe21bec088/Python_for_ML/blob/main/identity_and_membership_operators.ipynb\" target=\"_parent\"><img src=\"https://colab.research.google.com/assets/colab-badge.svg\" alt=\"Open In Colab\"/></a>"
      ]
    },
    {
      "cell_type": "markdown",
      "source": [
        "is\n",
        "\n",
        "is not\n",
        "\n",
        "in"
      ],
      "metadata": {
        "id": "OyUo5RselV3G"
      }
    },
    {
      "cell_type": "code",
      "source": [
        "a=(input())\n",
        "b=(input())\n",
        "print(a is b)\n",
        "print(a is not b)\n",
        "print(\"6\" in a)\n",
        "print(\"3\" in b)"
      ],
      "metadata": {
        "colab": {
          "base_uri": "https://localhost:8080/"
        },
        "id": "KNgdhVualgzZ",
        "outputId": "00672136-cd5a-401c-ea2b-6edd8d667fea"
      },
      "execution_count": null,
      "outputs": [
        {
          "output_type": "stream",
          "name": "stdout",
          "text": [
            "6\n",
            "3\n",
            "False\n",
            "True\n",
            "True\n",
            "True\n"
          ]
        }
      ]
    },
    {
      "cell_type": "code",
      "source": [],
      "metadata": {
        "id": "dGLxRt7_laB6"
      },
      "execution_count": null,
      "outputs": []
    }
  ]
}