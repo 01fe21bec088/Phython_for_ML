{
  "nbformat": 4,
  "nbformat_minor": 0,
  "metadata": {
    "colab": {
      "provenance": [],
      "authorship_tag": "ABX9TyMx3gam9NwhWdLFFmFF5Fof",
      "include_colab_link": true
    },
    "kernelspec": {
      "name": "python3",
      "display_name": "Python 3"
    },
    "language_info": {
      "name": "python"
    }
  },
  "cells": [
    {
      "cell_type": "markdown",
      "metadata": {
        "id": "view-in-github",
        "colab_type": "text"
      },
      "source": [
        "<a href=\"https://colab.research.google.com/github/01fe21bec088/Python_for_ML/blob/main/NumPy.ipynb\" target=\"_parent\"><img src=\"https://colab.research.google.com/assets/colab-badge.svg\" alt=\"Open In Colab\"/></a>"
      ]
    },
    {
      "cell_type": "code",
      "execution_count": null,
      "metadata": {
        "colab": {
          "base_uri": "https://localhost:8080/"
        },
        "id": "vaM-bvDJvfus",
        "outputId": "7010fb9b-fa38-4251-fccb-9d7e0a8768c4"
      },
      "outputs": [
        {
          "output_type": "stream",
          "name": "stdout",
          "text": [
            "[1 4 2 0 3]\n",
            "[0. 0. 0.]\n",
            "[1. 1. 1.]\n",
            "[0 1 2 3 4]\n"
          ]
        }
      ],
      "source": [
        "import numpy as np\n",
        "a=np.array([1,4,2,0,3])\n",
        "print(a)\n",
        "b=np.zeros(3)\n",
        "print(b)\n",
        "c=np.ones(3)\n",
        "print(c)\n",
        "d=np.sort(a)\n",
        "print(d)"
      ]
    }
  ]
}