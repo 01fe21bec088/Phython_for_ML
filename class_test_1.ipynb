{
  "nbformat": 4,
  "nbformat_minor": 0,
  "metadata": {
    "colab": {
      "provenance": [],
      "authorship_tag": "ABX9TyPx9rm2G4PR96mHxCkw5wMh",
      "include_colab_link": true
    },
    "kernelspec": {
      "name": "python3",
      "display_name": "Python 3"
    },
    "language_info": {
      "name": "python"
    }
  },
  "cells": [
    {
      "cell_type": "markdown",
      "metadata": {
        "id": "view-in-github",
        "colab_type": "text"
      },
      "source": [
        "<a href=\"https://colab.research.google.com/github/01fe21bec088/Python_for_ML/blob/main/class_test_1.ipynb\" target=\"_parent\"><img src=\"https://colab.research.google.com/assets/colab-badge.svg\" alt=\"Open In Colab\"/></a>"
      ]
    },
    {
      "cell_type": "markdown",
      "source": [
        "Q5\n",
        "\n"
      ],
      "metadata": {
        "id": "xpPhYhb7jKcV"
      }
    },
    {
      "cell_type": "code",
      "source": [
        "def check(num):\n",
        "  if num%3==0:\n",
        "    print(num,\"dividible by 3\")\n",
        "  if num%7==0:\n",
        "    print(num,\"dividible by 7\")\n",
        "  if num%9==0:\n",
        "    print(num,\"dividible by 9\")\n",
        "  if num%11==0:\n",
        "    print(num,\"dividible by 11\")\n",
        "\n",
        "num=int(input(\"enter the number: \"))\n",
        "n=num\n",
        "flag=0\n",
        "for i in range(1,n,1):\n",
        "  if num%i==0:\n",
        "    flag+=1\n",
        "if flag>1:\n",
        "  check(num)\n",
        "else :\n",
        "  print(\"prime\")"
      ],
      "metadata": {
        "colab": {
          "base_uri": "https://localhost:8080/"
        },
        "id": "kkJZmOVnjNOp",
        "outputId": "a918f0cc-7768-4dee-d22d-bd9a35879152"
      },
      "execution_count": 2,
      "outputs": [
        {
          "output_type": "stream",
          "name": "stdout",
          "text": [
            "enter the number: 62003\n",
            "prime\n"
          ]
        }
      ]
    },
    {
      "cell_type": "markdown",
      "source": [
        "Q6 palindrome"
      ],
      "metadata": {
        "id": "gbRjyNeIkqjH"
      }
    },
    {
      "cell_type": "code",
      "source": [
        "str1=str(input())\n",
        "rev_str=reversed(str1)\n",
        "if list(str1)==list(rev_str):\n",
        "  print(\"palindrome\")\n",
        "else:\n",
        "  print(\"not palindrome\")"
      ],
      "metadata": {
        "colab": {
          "base_uri": "https://localhost:8080/"
        },
        "id": "XpgWcWWskyi4",
        "outputId": "7e1d00f1-6e7a-4bf8-d3f6-88f055188e5a"
      },
      "execution_count": 12,
      "outputs": [
        {
          "output_type": "stream",
          "name": "stdout",
          "text": [
            "string\n",
            "not palindrome\n"
          ]
        }
      ]
    },
    {
      "cell_type": "markdown",
      "source": [
        "Q7 odd and even\n"
      ],
      "metadata": {
        "id": "9n7H52uCmAEn"
      }
    },
    {
      "cell_type": "code",
      "source": [
        "\n",
        "list1=[]\n",
        "liste=[]\n",
        "listo=[]\n",
        "\n",
        "for i in range(0,10,1):\n",
        "  num=int(input())\n",
        "  list1.append(num)\n",
        "  if num%2==0:\n",
        "    liste.append(num)\n",
        "  else:\n",
        "    listo.append(num)\n",
        "\n",
        "print(list1)\n",
        "print(liste)\n",
        "print(listo)"
      ],
      "metadata": {
        "colab": {
          "base_uri": "https://localhost:8080/"
        },
        "id": "E2VBa7qmmE7q",
        "outputId": "8cbbd924-6958-438d-dc5e-a367ca205594"
      },
      "execution_count": 31,
      "outputs": [
        {
          "output_type": "stream",
          "name": "stdout",
          "text": [
            "6\n",
            "646\n",
            "864\n",
            "8647\n",
            "34\n",
            "64\n",
            "23\n",
            "741\n",
            "42\n",
            "00\n",
            "[6, 646, 864, 8647, 34, 64, 23, 741, 42, 0]\n",
            "[6, 646, 864, 34, 64, 42, 0]\n",
            "[8647, 23, 741]\n"
          ]
        }
      ]
    },
    {
      "cell_type": "markdown",
      "source": [
        "Q8 pattern"
      ],
      "metadata": {
        "id": "15vnkwBxn3TG"
      }
    },
    {
      "cell_type": "code",
      "source": [
        "def pattern(x):\n",
        "  for i in range(x):\n",
        "    print(\"*\",end=\" \")\n",
        "\n",
        "  print(\" \")\n",
        "\n",
        "key=int(input())\n",
        "for j in range(0,key+1,1):\n",
        "  pattern(j)\n",
        "\n"
      ],
      "metadata": {
        "colab": {
          "base_uri": "https://localhost:8080/"
        },
        "id": "bcOaZKrzn5k7",
        "outputId": "36dddf31-671e-47e5-98d0-bc08d9ee6328"
      },
      "execution_count": 1,
      "outputs": [
        {
          "output_type": "stream",
          "name": "stdout",
          "text": [
            "5\n",
            " \n",
            "*  \n",
            "* *  \n",
            "* * *  \n",
            "* * * *  \n",
            "* * * * *  \n"
          ]
        }
      ]
    },
    {
      "cell_type": "code",
      "source": [],
      "metadata": {
        "id": "pH2tu9y6l_Fa"
      },
      "execution_count": null,
      "outputs": []
    },
    {
      "cell_type": "code",
      "source": [],
      "metadata": {
        "id": "N71WEcAJjozR"
      },
      "execution_count": null,
      "outputs": []
    }
  ]
}