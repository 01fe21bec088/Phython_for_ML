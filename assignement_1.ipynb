{
  "nbformat": 4,
  "nbformat_minor": 0,
  "metadata": {
    "colab": {
      "provenance": [],
      "authorship_tag": "ABX9TyNigHogtFyrB9G87HBYZUGO",
      "include_colab_link": true
    },
    "kernelspec": {
      "name": "python3",
      "display_name": "Python 3"
    },
    "language_info": {
      "name": "python"
    }
  },
  "cells": [
    {
      "cell_type": "markdown",
      "metadata": {
        "id": "view-in-github",
        "colab_type": "text"
      },
      "source": [
        "<a href=\"https://colab.research.google.com/github/01fe21bec088/Python_for_ML/blob/main/assignement_1.ipynb\" target=\"_parent\"><img src=\"https://colab.research.google.com/assets/colab-badge.svg\" alt=\"Open In Colab\"/></a>"
      ]
    },
    {
      "cell_type": "markdown",
      "source": [
        "code1\n"
      ],
      "metadata": {
        "id": "8cHyvzYZ663j"
      }
    },
    {
      "cell_type": "code",
      "source": [
        "#check for positive, negative or zero\n",
        "a=int(input(\"a: \"))\n",
        "if a>0: print(\"positive\")\n",
        "if a<0: print(\"negative\")\n",
        "if a==0: print(\"zero\")\n"
      ],
      "metadata": {
        "colab": {
          "base_uri": "https://localhost:8080/"
        },
        "id": "zqTZ1tX768-l",
        "outputId": "18fb58ea-40b0-4f47-ffd8-2f4e9ee70e66"
      },
      "execution_count": null,
      "outputs": [
        {
          "output_type": "stream",
          "name": "stdout",
          "text": [
            "a: -9\n",
            "negative\n"
          ]
        }
      ]
    },
    {
      "cell_type": "code",
      "source": [],
      "metadata": {
        "id": "eWR_Mmbd7xuS"
      },
      "execution_count": null,
      "outputs": []
    },
    {
      "cell_type": "markdown",
      "source": [
        "code2\n"
      ],
      "metadata": {
        "id": "ECC4XmaZ7ycc"
      }
    },
    {
      "cell_type": "code",
      "source": [
        "#check for names in tuple\n",
        "t=(\"ram\",\"sam\",\"jai\",\"raj\")\n",
        "i=input(\"enter the name: \")\n",
        "if i==t[0]: print(i,\"is found\")\n",
        "elif i==t[1]: print(i,\"is found\")\n",
        "elif i==t[2]: print(i,\"is found\")\n",
        "elif i==t[3]: print(i,\"is found\")\n",
        "else: print(i,\"not found\")"
      ],
      "metadata": {
        "colab": {
          "base_uri": "https://localhost:8080/"
        },
        "id": "9xDg79RQ70JI",
        "outputId": "250e76be-8e34-4435-fbed-ced185096de5"
      },
      "execution_count": null,
      "outputs": [
        {
          "output_type": "stream",
          "name": "stdout",
          "text": [
            "enter the name: jai\n",
            "jai is found\n"
          ]
        }
      ]
    },
    {
      "cell_type": "markdown",
      "source": [
        "code3"
      ],
      "metadata": {
        "id": "nVljHUcT9CPy"
      }
    },
    {
      "cell_type": "code",
      "source": [
        "#airethamatic opns\n",
        "x=int(input(\"x=\"))\n",
        "y=int(input(\"y=\"))\n",
        "z=input('enter operation: ')\n",
        "if z==\"+\": print(x+y)\n",
        "elif z==\"-\": print(x-y)\n",
        "elif z==\"*\": print(x*y)\n",
        "elif z==\"/\": print(x/y)\n",
        "elif z==\"%\": print(x%y)\n",
        "elif z==\"**\": print(x**y)\n",
        "else: print(\"invalid\")"
      ],
      "metadata": {
        "colab": {
          "base_uri": "https://localhost:8080/"
        },
        "id": "tDlyz7sH9DnT",
        "outputId": "5c71f8cf-6aad-48ba-9ea1-618c3a3b4145"
      },
      "execution_count": null,
      "outputs": [
        {
          "output_type": "stream",
          "name": "stdout",
          "text": [
            "x=987\n",
            "y=985\n",
            "enter operation: /\n",
            "1.0020304568527918\n"
          ]
        }
      ]
    },
    {
      "cell_type": "markdown",
      "source": [
        "code4"
      ],
      "metadata": {
        "id": "z-qgOgBU-3uu"
      }
    },
    {
      "cell_type": "code",
      "source": [
        "#logic operations\n",
        "p=int(input(\"p=\"))\n",
        "q=int(input(\"q=\"))\n",
        "s=input('logic operator: ')\n",
        "if s==\"&\": print(p&q)\n",
        "elif s==\"|\": print(p|q)"
      ],
      "metadata": {
        "colab": {
          "base_uri": "https://localhost:8080/"
        },
        "id": "zj5Q9cyN-6F5",
        "outputId": "712b4466-5b51-4d1e-c528-ff51c2e6f86a"
      },
      "execution_count": null,
      "outputs": [
        {
          "output_type": "stream",
          "name": "stdout",
          "text": [
            "p=1\n",
            "q=2\n",
            "logic operator: |\n",
            "3\n"
          ]
        }
      ]
    },
    {
      "cell_type": "markdown",
      "source": [],
      "metadata": {
        "id": "qRj2C3Jd64A-"
      }
    },
    {
      "cell_type": "markdown",
      "source": [
        "code5"
      ],
      "metadata": {
        "id": "qbUOo43E_0K3"
      }
    },
    {
      "cell_type": "code",
      "source": [
        "#list input\n",
        "l=[]\n",
        "l0=input(\"l0\")\n",
        "l.append(l0)\n",
        "l1=input(\"l1\")\n",
        "l.append(l1)\n",
        "l2=input(\"l2\")\n",
        "l.append(l2)\n",
        "l3=input(\"l3\")\n",
        "l.append(l3)\n",
        "l4=input(\"l4\")\n",
        "l.append(l4)\n",
        "print(l)\n"
      ],
      "metadata": {
        "colab": {
          "base_uri": "https://localhost:8080/"
        },
        "id": "BoC4V1oX_2A5",
        "outputId": "bdd1f2d7-d48b-4d42-9b61-16f04b666cb3"
      },
      "execution_count": null,
      "outputs": [
        {
          "output_type": "stream",
          "name": "stdout",
          "text": [
            "l0945\n",
            "l16541653\n",
            "l28645\n",
            "l384521\n",
            "l495\n",
            "['945', '6541653', '8645', '84521', '95']\n"
          ]
        }
      ]
    }
  ]
}