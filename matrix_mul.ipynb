{
  "nbformat": 4,
  "nbformat_minor": 0,
  "metadata": {
    "colab": {
      "provenance": [],
      "authorship_tag": "ABX9TyPO+HDaHRTLlUAUGjYT9hFN",
      "include_colab_link": true
    },
    "kernelspec": {
      "name": "python3",
      "display_name": "Python 3"
    },
    "language_info": {
      "name": "python"
    }
  },
  "cells": [
    {
      "cell_type": "markdown",
      "metadata": {
        "id": "view-in-github",
        "colab_type": "text"
      },
      "source": [
        "<a href=\"https://colab.research.google.com/github/01fe21bec088/Python_for_ML/blob/main/matrix_mul.ipynb\" target=\"_parent\"><img src=\"https://colab.research.google.com/assets/colab-badge.svg\" alt=\"Open In Colab\"/></a>"
      ]
    },
    {
      "cell_type": "code",
      "execution_count": null,
      "metadata": {
        "id": "jmJp20pbqaY8"
      },
      "outputs": [],
      "source": []
    },
    {
      "cell_type": "code",
      "source": [
        "X = [[0,0],\n",
        "    [0 ,0],\n",
        "    [0 ,0]]\n",
        "Y = [[0,0,0],\n",
        "    [0,0,0],\n",
        "    ]\n",
        "result = [[0,0,0],\n",
        "         [0,0,0],\n",
        "         [0,0,0]]\n",
        "\n",
        "for i in range(3):\n",
        "   for j in range(2):\n",
        "    X[i][j]=int(input())\n",
        "\n",
        "for i in range(2):\n",
        "   for j in range(3):\n",
        "    Y[i][j]=int(input())\n",
        "\n",
        "\n",
        "for i in range(3):\n",
        "   for j in range(3):\n",
        "       for k in range(2):\n",
        "           result[i][j] += X[i][k] * Y[k][j]\n",
        "\n",
        "for r in result:\n",
        "   print(r)\n"
      ],
      "metadata": {
        "colab": {
          "base_uri": "https://localhost:8080/"
        },
        "id": "uiTr5ImHjSqz",
        "outputId": "4f2c58f4-0b41-4aa9-9620-e1a41c29523c"
      },
      "execution_count": null,
      "outputs": [
        {
          "output_type": "stream",
          "name": "stdout",
          "text": [
            "1\n",
            "1\n",
            "1\n",
            "1\n",
            "1\n",
            "1\n",
            "1\n",
            "1\n",
            "1\n",
            "1\n",
            "1\n",
            "1\n",
            "[2, 2, 2]\n",
            "[2, 2, 2]\n",
            "[2, 2, 2]\n"
          ]
        }
      ]
    }
  ]
}