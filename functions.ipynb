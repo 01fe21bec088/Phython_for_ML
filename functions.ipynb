{
  "nbformat": 4,
  "nbformat_minor": 0,
  "metadata": {
    "colab": {
      "provenance": [],
      "authorship_tag": "ABX9TyNGcdAmG1VL2VFte4fPy/13",
      "include_colab_link": true
    },
    "kernelspec": {
      "name": "python3",
      "display_name": "Python 3"
    },
    "language_info": {
      "name": "python"
    }
  },
  "cells": [
    {
      "cell_type": "markdown",
      "metadata": {
        "id": "view-in-github",
        "colab_type": "text"
      },
      "source": [
        "<a href=\"https://colab.research.google.com/github/01fe21bec088/Python_for_ML/blob/main/functions.ipynb\" target=\"_parent\"><img src=\"https://colab.research.google.com/assets/colab-badge.svg\" alt=\"Open In Colab\"/></a>"
      ]
    },
    {
      "cell_type": "code",
      "execution_count": null,
      "metadata": {
        "colab": {
          "base_uri": "https://localhost:8080/"
        },
        "id": "BTbY6MFrAyYR",
        "outputId": "11468300-03bb-4f36-e4f3-e0409108a3c5"
      },
      "outputs": [
        {
          "output_type": "stream",
          "name": "stdout",
          "text": [
            "cake\n"
          ]
        }
      ],
      "source": [
        "def cake_baker():\n",
        "  print(\"cake\")\n",
        "\n",
        "cake_baker()"
      ]
    },
    {
      "cell_type": "code",
      "source": [
        "def cake_baker(p,q,r):\n",
        "  print(p,\"cake\",q,\"flavor of\",r)\n",
        "\n",
        "cake_baker(\"1\",\"pista\",\"5kg\")"
      ],
      "metadata": {
        "colab": {
          "base_uri": "https://localhost:8080/"
        },
        "id": "TAmlCO86CUjE",
        "outputId": "9a504b95-9669-42c2-b2f5-555b704652da"
      },
      "execution_count": null,
      "outputs": [
        {
          "output_type": "stream",
          "name": "stdout",
          "text": [
            "1 cake pista flavor of 5kg\n"
          ]
        }
      ]
    },
    {
      "cell_type": "code",
      "source": [
        "def even(x):\n",
        "  if i%2==0:\n",
        "    print(x)\n",
        "\n",
        "for i in range(10):\n",
        "    even(i)\n"
      ],
      "metadata": {
        "colab": {
          "base_uri": "https://localhost:8080/"
        },
        "id": "63xl749fC7-k",
        "outputId": "fecd6449-ed34-4146-e120-d00801e56cb6"
      },
      "execution_count": null,
      "outputs": [
        {
          "output_type": "stream",
          "name": "stdout",
          "text": [
            "0\n",
            "2\n",
            "4\n",
            "6\n",
            "8\n"
          ]
        }
      ]
    }
  ]
}