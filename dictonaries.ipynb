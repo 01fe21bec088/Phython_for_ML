{
  "nbformat": 4,
  "nbformat_minor": 0,
  "metadata": {
    "colab": {
      "provenance": [],
      "authorship_tag": "ABX9TyP/y98y7xOynDDk+W0Zcza9",
      "include_colab_link": true
    },
    "kernelspec": {
      "name": "python3",
      "display_name": "Python 3"
    },
    "language_info": {
      "name": "python"
    }
  },
  "cells": [
    {
      "cell_type": "markdown",
      "metadata": {
        "id": "view-in-github",
        "colab_type": "text"
      },
      "source": [
        "<a href=\"https://colab.research.google.com/github/01fe21bec088/Python_for_ML/blob/main/dictonaries.ipynb\" target=\"_parent\"><img src=\"https://colab.research.google.com/assets/colab-badge.svg\" alt=\"Open In Colab\"/></a>"
      ]
    },
    {
      "cell_type": "code",
      "execution_count": null,
      "metadata": {
        "colab": {
          "base_uri": "https://localhost:8080/"
        },
        "id": "d6z6XNZTsers",
        "outputId": "d56fda30-7b6e-430e-afe8-25ad6e49e12a"
      },
      "outputs": [
        {
          "output_type": "stream",
          "name": "stdout",
          "text": [
            "{'name': 'satwik', 'Age': '20'}\n"
          ]
        }
      ],
      "source": [
        "dict1={\"name\":\"satwik\",\n",
        "       \"Age\":\"20\"}\n",
        "print(dict1)"
      ]
    },
    {
      "cell_type": "code",
      "source": [
        "#lastest data is stored\n",
        "dict1={\"name\":\"satwik\",\n",
        "       \"Age\":\"20\",\n",
        "       \"year\":\"10\",\n",
        "       \"year\":\"11\"}\n",
        "print(dict1)"
      ],
      "metadata": {
        "colab": {
          "base_uri": "https://localhost:8080/"
        },
        "id": "28cOMBd-uODK",
        "outputId": "01a71286-da9b-49c0-dbac-1054cee6d8f8"
      },
      "execution_count": null,
      "outputs": [
        {
          "output_type": "stream",
          "name": "stdout",
          "text": [
            "{'name': 'satwik', 'Age': '20', 'year': '11'}\n"
          ]
        }
      ]
    },
    {
      "cell_type": "code",
      "source": [
        "dict2=dict(fruit=\"banana\",dessert=\"ice\")\n",
        "print(dict2)"
      ],
      "metadata": {
        "colab": {
          "base_uri": "https://localhost:8080/"
        },
        "id": "xOTbTSzvtiRe",
        "outputId": "2d395a64-030d-4865-9e59-67c58c3e5d04"
      },
      "execution_count": null,
      "outputs": [
        {
          "output_type": "stream",
          "name": "stdout",
          "text": [
            "{'fruit': 'banana', 'dessert': 'ice'}\n"
          ]
        }
      ]
    },
    {
      "cell_type": "code",
      "source": [],
      "metadata": {
        "id": "gKzGf-UOW6uJ"
      },
      "execution_count": null,
      "outputs": []
    }
  ]
}