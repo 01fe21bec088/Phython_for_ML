{
  "nbformat": 4,
  "nbformat_minor": 0,
  "metadata": {
    "colab": {
      "provenance": [],
      "authorship_tag": "ABX9TyPp9YnV06sj6Z3cjaIaHkKT",
      "include_colab_link": true
    },
    "kernelspec": {
      "name": "python3",
      "display_name": "Python 3"
    },
    "language_info": {
      "name": "python"
    }
  },
  "cells": [
    {
      "cell_type": "markdown",
      "metadata": {
        "id": "view-in-github",
        "colab_type": "text"
      },
      "source": [
        "<a href=\"https://colab.research.google.com/github/01fe21bec088/Python_for_ML/blob/main/data_types.ipynb\" target=\"_parent\"><img src=\"https://colab.research.google.com/assets/colab-badge.svg\" alt=\"Open In Colab\"/></a>"
      ]
    },
    {
      "cell_type": "code",
      "execution_count": null,
      "metadata": {
        "colab": {
          "base_uri": "https://localhost:8080/"
        },
        "id": "UqCM3ErCHwx1",
        "outputId": "7a3357a1-e29b-4d83-ef7e-9bcc6a47934e"
      },
      "outputs": [
        {
          "output_type": "stream",
          "name": "stdout",
          "text": [
            "satwik 04042003\n",
            "<class 'str'>\n"
          ]
        }
      ],
      "source": [
        "name=\"satwik 04042003\"\n",
        "print(name)\n",
        "print(type(name))"
      ]
    },
    {
      "cell_type": "code",
      "source": [
        "num=[1,2,3]\n",
        "print(num)\n",
        "print(type(num))"
      ],
      "metadata": {
        "colab": {
          "base_uri": "https://localhost:8080/"
        },
        "id": "mj0Mk5i5IgIg",
        "outputId": "e2a7be34-173b-40a7-c194-26d95c2a1e2e"
      },
      "execution_count": null,
      "outputs": [
        {
          "output_type": "stream",
          "name": "stdout",
          "text": [
            "[1, 2, 3]\n",
            "<class 'list'>\n"
          ]
        }
      ]
    },
    {
      "cell_type": "code",
      "source": [
        "n1=4j\n",
        "print(type(n1))"
      ],
      "metadata": {
        "colab": {
          "base_uri": "https://localhost:8080/"
        },
        "id": "SVsbi1NNK9-e",
        "outputId": "7472eb7c-2217-4980-85e5-e0f6711c6478"
      },
      "execution_count": null,
      "outputs": [
        {
          "output_type": "stream",
          "name": "stdout",
          "text": [
            "<class 'complex'>\n"
          ]
        }
      ]
    },
    {
      "cell_type": "code",
      "source": [
        "n2=3.333788477589758\n",
        "print(n2)\n",
        "print(type(n2))"
      ],
      "metadata": {
        "colab": {
          "base_uri": "https://localhost:8080/"
        },
        "id": "CWB17vWCLMle",
        "outputId": "3c11d372-2d14-47b0-cd04-90be1bf0b46d"
      },
      "execution_count": null,
      "outputs": [
        {
          "output_type": "stream",
          "name": "stdout",
          "text": [
            "3.333788477589758\n",
            "<class 'float'>\n"
          ]
        }
      ]
    },
    {
      "cell_type": "code",
      "source": [
        "n3=4444444444444444444444444444444444444444444444444444444444499999999999999999999999999999999999999999999999999\n",
        "print(n3)\n",
        "print(type(n3))"
      ],
      "metadata": {
        "colab": {
          "base_uri": "https://localhost:8080/"
        },
        "id": "4uWvQbMSLeK-",
        "outputId": "86fbb185-e5bf-42bd-cb8e-d7c99a6fe44d"
      },
      "execution_count": null,
      "outputs": [
        {
          "output_type": "stream",
          "name": "stdout",
          "text": [
            "4444444444444444444444444444444444444444444444444444444444499999999999999999999999999999999999999999999999999\n",
            "<class 'int'>\n"
          ]
        }
      ]
    },
    {
      "cell_type": "code",
      "source": [
        "a=1+2j\n",
        "b=6+5j\n",
        "c=a+b\n",
        "print(c)"
      ],
      "metadata": {
        "colab": {
          "base_uri": "https://localhost:8080/"
        },
        "id": "TxP1j2p0Lw1Y",
        "outputId": "e6288582-6542-41f0-fe11-31a16daaafd8"
      },
      "execution_count": null,
      "outputs": [
        {
          "output_type": "stream",
          "name": "stdout",
          "text": [
            "(7+7j)\n"
          ]
        }
      ]
    },
    {
      "cell_type": "code",
      "source": [
        "lists=['aa','bb','cc']\n",
        "print(lists)\n",
        "print(type(lists))\n",
        "lis1=['ss','11','tt']\n",
        "print(lis1)\n",
        "print(len(lis1))\n",
        "add=lists+lis1  #concatination\n",
        "print(add)"
      ],
      "metadata": {
        "colab": {
          "base_uri": "https://localhost:8080/"
        },
        "id": "T_g-PxOLMuPd",
        "outputId": "3fe7203a-766b-4bbd-ba77-2295b753ec96"
      },
      "execution_count": null,
      "outputs": [
        {
          "output_type": "stream",
          "name": "stdout",
          "text": [
            "['aa', 'bb', 'cc']\n",
            "<class 'list'>\n",
            "['ss', '11', 'tt']\n",
            "3\n",
            "['aa', 'bb', 'cc', 'ss', '11', 'tt']\n"
          ]
        }
      ]
    }
  ]
}